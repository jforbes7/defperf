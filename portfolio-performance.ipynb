{
 "cells": [
  {
   "cell_type": "code",
   "execution_count": null,
   "id": "7f59428a",
   "metadata": {},
   "outputs": [],
   "source": [
    "import pandas as pd\n",
    "import numpy as np\n",
    "import plotly.express as px\n",
    "import yfinance as yf\n",
    "\n",
    "from datetime import datetime, date, timedelta"
   ]
  },
  {
   "cell_type": "code",
   "execution_count": null,
   "id": "9d171406",
   "metadata": {},
   "outputs": [],
   "source": [
    "def pull_stock_date(stocks_df, stock_tick, transaction_date):\n",
    "    transaction_date = \"2021-01-01\"\n",
    "    data = yf.download(stock_tick, start=transaction_date, end=today)\n",
    "    data.reset_index(inplace=True)\n",
    "    data.Date = data.Date.dt.strftime('%Y-%m-%d')\n",
    "    # data.head()\n",
    "\n",
    "    stocks_df = stocks_df.merge(data[['Date','Close']],\n",
    "                                how = 'left',\n",
    "                                left_on = 'DATE',\n",
    "                                right_on = 'Date').drop(labels='Date',axis=1)\n",
    "    stocks_df.rename(columns={\"Close\":stock_tick},copy=False,inplace=True)\n",
    "    return stocks_df"
   ]
  },
  {
   "cell_type": "code",
   "execution_count": null,
   "id": "f2aba497",
   "metadata": {
    "tags": []
   },
   "outputs": [],
   "source": [
    "today = datetime.today().strftime('%Y-%m-%d')\n",
    "dates = pd.date_range(start=\"2021-01-01\", end=today, freq='D')\n",
    "stocks_df = pd.DataFrame({'DATE': dates.strftime('%Y-%m-%d')})\n",
    "# stocks_df.head()\n",
    "\n",
    "# Benchmark Index Funds\n",
    "stocks_df = pull_stock_date(stocks_df, \"MDY\",\"2021-01-01\")\n",
    "stocks_df = pull_stock_date(stocks_df, \"SPY\",\"2021-01-01\")\n",
    "stocks_df = pull_stock_date(stocks_df, \"VOO\",\"2021-01-01\")\n",
    "\n",
    "# Prior Purchases\n",
    "stocks_df = pull_stock_date(stocks_df, \"ACN\",\"2021-01-01\")\n",
    "stocks_df = pull_stock_date(stocks_df, \"BAH\",\"2021-01-01\")\n",
    "stocks_df = pull_stock_date(stocks_df, \"LEN\",\"2021-01-01\")\n",
    "stocks_df = pull_stock_date(stocks_df, \"PGNY\",\"2021-01-01\")\n",
    "stocks_df = pull_stock_date(stocks_df, \"QRVO\",\"2021-01-01\")\n",
    "stocks_df = pull_stock_date(stocks_df, \"AVLR\",\"2021-01-01\")\n",
    "\n",
    "# 2021 Purchases\n",
    "stocks_df = pull_stock_date(stocks_df, \"CVX\",\"2021-01-14\")\n",
    "stocks_df = pull_stock_date(stocks_df, \"BAP\",\"2021-01-14\")\n",
    "stocks_df = pull_stock_date(stocks_df, \"SQ\",\"2021-02-05\")\n",
    "stocks_df = pull_stock_date(stocks_df, \"BX\",\"2021-06-11\")\n",
    "stocks_df = pull_stock_date(stocks_df, \"MTZ\",\"2021-09-29\")\n",
    "\n",
    "#2022 Purchases\n",
    "stocks_df = pull_stock_date(stocks_df, \"ETN\",\"2022-02-16\")\n",
    "stocks_df = pull_stock_date(stocks_df, \"META\",\"2022-02-16\")\n",
    "stocks_df = pull_stock_date(stocks_df, \"IRM\",\"2022-05-04\")\n",
    "stocks_df = pull_stock_date(stocks_df, \"LEN-B\",\"2022-05-04\")\n",
    "stocks_df = pull_stock_date(stocks_df, \"CUZ\",\"2022-05-04\")\n",
    "stocks_df = pull_stock_date(stocks_df, \"OXY\",\"2022-05-04\")\n",
    "stocks_df = pull_stock_date(stocks_df, \"GT\",\"2022-05-06\")\n",
    "\n",
    "stocks_df = stocks_df.transpose()\n",
    "\n",
    "new_header = stocks_df.iloc[0] #grab the first row for the header\n",
    "stocks_df = stocks_df[1:] #take the data less the header row\n",
    "stocks_df.columns = new_header #set the header row as the df header\n",
    "\n",
    "stocks_df = stocks_df.sort_index().infer_objects()\n",
    "# stocks_df"
   ]
  },
  {
   "cell_type": "code",
   "execution_count": null,
   "id": "a6799f69",
   "metadata": {
    "scrolled": true,
    "tags": []
   },
   "outputs": [],
   "source": [
    "scenario = (pd.read_csv('SF.csv')).iloc[:,:-1]\n",
    "scenario = scenario.transpose()\n",
    "new_header = scenario.iloc[0] #grab the first row for the header\n",
    "scenario = scenario[1:] #take the data less the header row\n",
    "scenario.columns = new_header #set the header row as the df header\n",
    "# scenario"
   ]
  },
  {
   "cell_type": "code",
   "execution_count": null,
   "id": "eae10946",
   "metadata": {},
   "outputs": [],
   "source": [
    "portfolio = scenario.iloc[0,:]\n",
    "mix = portfolio.iloc[1:].sort_index().astype('int')\n",
    "values = (pd.DataFrame(stocks_df.to_numpy())*((mix.to_numpy()).reshape(mix.shape[0],1)))\n",
    "values.columns = stocks_df.columns #set the header row as the df header\n",
    "values.set_index(stocks_df.index, inplace=True)\n",
    "values.dropna(axis=1, inplace=True)\n",
    "performance = [values.sum()]\n",
    "\n",
    "for i in list(range(1,scenario.shape[0])):\n",
    "\n",
    "    portfolio = scenario.iloc[i,:]\n",
    "    mix = portfolio.iloc[1:].sort_index().astype('int')\n",
    "    values = (pd.DataFrame(stocks_df.to_numpy())*((mix.to_numpy()).reshape(mix.shape[0],1)))\n",
    "    values.columns = stocks_df.columns #set the header row as the df header\n",
    "    values.set_index(stocks_df.index, inplace=True)\n",
    "    values.dropna(axis=1, inplace=True)\n",
    "    performance = performance + [values.sum()]\n",
    "\n",
    "performance = performance / performance[0][0] * 100\n",
    "\n",
    "performance = pd.DataFrame(performance)\n",
    "performance.set_index(scenario.index, inplace=True)\n",
    "performance.columns = values.columns\n",
    "performance = performance.transpose().reset_index()\n",
    "# performance"
   ]
  },
  {
   "cell_type": "code",
   "execution_count": null,
   "id": "5df6397b-7991-45b0-b824-7e10d87a8485",
   "metadata": {},
   "outputs": [],
   "source": [
    "import plotly.graph_objects as go\n",
    "\n",
    "\n",
    "\n",
    "fig = go.Figure()\n",
    "for i in list(range(1,scenario.shape[0]+1)):\n",
    "    date_val = str(scenario.iloc[i-1,0])\n",
    "    index_val = performance[performance.DATE == date_val].index.to_list()[0]\n",
    "    fig.add_trace(go.Scatter(x=performance.DATE[index_val:], y=performance.iloc[index_val:,i],\n",
    "                        mode='lines',\n",
    "                        name='Portfolio '+str(i)))\n",
    "# fig.update_yaxes(rangemode=\"tozero\")\n",
    "fig.update_layout(height = 500)\n",
    "fig.update_xaxes(range=['2022-01-01','2022-10-24'])\n",
    "fig.show()"
   ]
  },
  {
   "cell_type": "code",
   "execution_count": null,
   "id": "925989cd-784d-4e33-8cba-97377e7eb042",
   "metadata": {},
   "outputs": [],
   "source": []
  }
 ],
 "metadata": {
  "kernelspec": {
   "display_name": "Python 3 (ipykernel)",
   "language": "python",
   "name": "python3"
  },
  "language_info": {
   "codemirror_mode": {
    "name": "ipython",
    "version": 3
   },
   "file_extension": ".py",
   "mimetype": "text/x-python",
   "name": "python",
   "nbconvert_exporter": "python",
   "pygments_lexer": "ipython3",
   "version": "3.9.13"
  }
 },
 "nbformat": 4,
 "nbformat_minor": 5
}
